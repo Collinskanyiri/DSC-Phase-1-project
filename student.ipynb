{
 "cells": [
  {
   "cell_type": "markdown",
   "metadata": {},
   "source": [
    "## Final Project Submission\n",
    "\n",
    "Please fill out:\n",
    "* Student name: Collins Kanyiri\n",
    "* Student pace: full time\n",
    "* Scheduled project review date/time: May 28 2023 / 11:59pm\n",
    "* Instructor name: Mark Tiba\n",
    "* Blog post URL: N/A\n"
   ]
  },
  {
   "cell_type": "markdown",
   "metadata": {},
   "source": [
    "\n",
    "# Phase 1 Project - Microsoft Studios Movie Project\n",
    "\n",
    "## 1. Introduction\n",
    "\n",
    "The global film industry revenue is estimated to be $101.22 billion in 2021.The industry comprises the technological and commercial institutions of filmmaking, i.e., film production companies, film studios, cinematography, animation, film production, screenwriting, pre-production, post production, film festivals, distribution, and actors. \n",
    "\n",
    "Microsoft Corporation is an American multinational technology corporation headquartered in Redmond, Washington. Microsoft's best-known software products are the Windows line of operating systems, the Microsoft Office suite, and the Internet Explorer and Edge web browsers. Its flagship hardware products are the Xbox video game consoles and the Microsoft Surface lineup of touchscreen personal computers.\n",
    "\n",
    "Ranked No. 14 in the 2022 Fortune 500 rankings of the largest United States corporations by total revenue, the corporation wishes to enter into the Movie buisness.\n",
    "\n",
    "## 2. Business Understanding\n",
    "\n",
    "### 2.1. Problem Statment \n",
    "Microsoft corporation, is looking to set up a movie studio to create original video content.Having no proir experience in the field their is need to reseach the current trends in the industry.\n",
    "In order to make the necessary decisions resulting in the most profitable movies, there is need to look into data from movie review sites, analyse the data and come up with the recommendations that will lead to this outcome.\n",
    "\n",
    "From the datasets provided, answers to the following questions can be sought:\n",
    "   - What are the most popular genres?\n",
    "   - Movie returns in both Domestic and Foreign markets.\n",
    "   - What are the most popular film ratings?\n",
    "\n",
    "\n",
    "### 2.2 Objectives\n",
    "- Explore the datasets to answer the Problem Statment .\n",
    "- Provide  conclusions and recommendations from the outcomes of the analyses.\n",
    "\n",
    "## 3. Data Understanding\n",
    "The datasets provided for this analysis were collected from different movie review sites.  \n",
    "The datasets include:\n",
    "1. bom.movie_gross [Box Office Mojo]\n",
    "2. tmdb.movies [IMDB]\n",
    "3. rt.movie_info [Rotten Tomatoes]\n",
    "4. rt.reviews [Rotten Tomatoes]\n",
    "5. tn.movie_budgets [The Numbers]\n",
    "\n",
    "For this analysis, datasets 1 to 3 were used.\n",
    "Their features are as follows:\n",
    "\n",
    "**3.1. From Box Office Mojo**\n",
    "- `title` - Name of the movie.\n",
    "- `studio` - The studio that produced it.\n",
    "- `domestic_gross` - The amount of gross earnings from its mother country.\n",
    "- `foreign_gross` - The amount of gross earnings from elsewhere around the world.\n",
    "- `year` - The year it was released.\n",
    "\n",
    "**3.2. From IMDB Movies:**\n",
    "- `genre_ids` - id for each genre of the Movie.\n",
    "- `id` - Unique id for each movie.\n",
    "- `original_language` - The original language of film.\n",
    "- `popularity` - The popularity of the movie in millions.\n",
    "- `release_date` - The date the Movie was released.\n",
    "- `title` - The average rating out of 10. \n",
    "- `vote_average` - Average Number of votes to rate the movie out of 10.\n",
    "- `vote_count` - Number of pepole who  to rate the movie.\n",
    "\n",
    "    \n",
    "**3.3. Rotten Tomatoes Movies Information:**\n",
    "\n",
    "- `id` - Unique id for each movie.\n",
    "- `synopsis` - A brief note on the premise of the movie.\n",
    "- `rating` - rate of motion picture's suitability for certain audiences based on its content. \n",
    "     - R :- Restricted: Under 17 requires accompanying parent or adult guardian\n",
    "     - PG-13 :- Some material may be inappropriate for children under 13\n",
    "     - PG :- Some material may not be suitable for children\n",
    "     - G :- All ages admitted\n",
    "     - NR :- Not rated\n",
    "- `genre` - A movie's category based on the plot.\n",
    "- `director` - The movie's director.\n",
    "- `writer` - The movie's writer.\n",
    "- `theater_date` - The date the movie was released in theaters.\n",
    "- `dvd_date` - The date the movie was released in dvd format.\n",
    "- `currency` - - currency used.\n",
    "- `Box office` - The studio returns.\n",
    "- `runtime` - The total length of the movie.\n",
    "- `studio` - The studio involved in the movie production.\n",
    "\n",
    "**3.4. Rotten Tomatoes Review Information:**\n",
    "\n",
    "- `review` - A review on the movie by a user.\n",
    "- `rating` - How a user rates the movie.\n",
    "- `fresh` - Rotten Tomatoes rating system,[Flesh-they liked it, rotten- the did not like it]\n",
    "- `critic` - Name of the person leaving the review.\n",
    "- `top_critic`  - \n",
    "- `publisher` - The publisher of the review.\n",
    "- `date` - The date the review was written.\n",
    "\n",
    "**3.5. From The Numbers:**\n",
    "- `id` - Unique id for each movie.\n",
    "- `release_date` - The date the Movie was released.\n",
    "- `movie` - The movie name. \n",
    "- `production_budget` - amount of money used in the movie production.\n",
    "- `domestic_gross` - Dometic returns of the production.\n",
    "- `worldwide_gross` - worldwide returns of the production.\n",
    "\n"
   ]
  },
  {
   "cell_type": "markdown",
   "metadata": {},
   "source": [
    "## 4. Data Preparation\n",
    "1. import the Libraries.\n",
    "2. Loading the Datasets\n",
    "3. Clean the data by dealing with:\n",
    "    - missing values\n",
    "    - duplicate rows\n",
    "    - invalid data\n",
    "    - outliers\n"
   ]
  },
  {
   "cell_type": "code",
   "execution_count": 3,
   "metadata": {},
   "outputs": [],
   "source": [
    "# 4.1.importing relevant libraries\n",
    "import pandas as pd\n",
    "import matplotlib.pyplot as plt\n",
    "import sqlite3\n",
    "import numpy as np\n",
    "import seaborn as sns\n",
    "%matplotlib inline\n"
   ]
  },
  {
   "cell_type": "code",
   "execution_count": 7,
   "metadata": {},
   "outputs": [
    {
     "ename": "NameError",
     "evalue": "name 'tn' is not defined",
     "output_type": "error",
     "traceback": [
      "\u001b[1;31m---------------------------------------------------------------------------\u001b[0m",
      "\u001b[1;31mNameError\u001b[0m                                 Traceback (most recent call last)",
      "Cell \u001b[1;32mIn[7], line 5\u001b[0m\n\u001b[0;32m      3\u001b[0m rt_movies \u001b[38;5;241m=\u001b[39m pd\u001b[38;5;241m.\u001b[39mread_csv(\u001b[38;5;124m'\u001b[39m\u001b[38;5;124mData/rt.movie_info.tsv\u001b[39m\u001b[38;5;124m'\u001b[39m,delimiter \u001b[38;5;241m=\u001b[39m \u001b[38;5;124m'\u001b[39m\u001b[38;5;130;01m\\t\u001b[39;00m\u001b[38;5;124m'\u001b[39m)\n\u001b[0;32m      4\u001b[0m rt_reviews \u001b[38;5;241m=\u001b[39m pd\u001b[38;5;241m.\u001b[39mread_csv(\u001b[38;5;124m'\u001b[39m\u001b[38;5;124mData/rt.reviews.tsv\u001b[39m\u001b[38;5;124m'\u001b[39m,delimiter \u001b[38;5;241m=\u001b[39m \u001b[38;5;124m\"\u001b[39m\u001b[38;5;130;01m\\t\u001b[39;00m\u001b[38;5;124m\"\u001b[39m,encoding\u001b[38;5;241m=\u001b[39m\u001b[38;5;124m'\u001b[39m\u001b[38;5;124mlatin-1\u001b[39m\u001b[38;5;124m'\u001b[39m)\n\u001b[1;32m----> 5\u001b[0m \u001b[43mtn\u001b[49m\u001b[38;5;241m.\u001b[39mmovie_budgets \u001b[38;5;241m=\u001b[39m pd\u001b[38;5;241m.\u001b[39mread_csv(\u001b[38;5;124m'\u001b[39m\u001b[38;5;124mData/tn.movie_budgets.csv\u001b[39m\u001b[38;5;124m'\u001b[39m)\n\u001b[0;32m      7\u001b[0m \u001b[38;5;66;03m#opening a connection to the imdb database\u001b[39;00m\n\u001b[0;32m      8\u001b[0m conn \u001b[38;5;241m=\u001b[39m sqlite3\u001b[38;5;241m.\u001b[39mconnect(\u001b[38;5;124m\"\u001b[39m\u001b[38;5;124mData/im.db\u001b[39m\u001b[38;5;124m\"\u001b[39m)\n",
      "\u001b[1;31mNameError\u001b[0m: name 'tn' is not defined"
     ]
    }
   ],
   "source": [
    "# 4.2 loading the datasets\n",
    "bom_movies = pd.read_csv('Data/bom.movie_gross.csv')\n",
    "rt_movies = pd.read_csv('Data/rt.movie_info.tsv',delimiter = '\\t')\n",
    "rt_reviews = pd.read_csv('Data/rt.reviews.tsv',delimiter = \"\\t\",encoding='latin-1')\n",
    "tn.movie_budgets = pd.read_csv('Data/tn.movie_budgets.csv')\n",
    "\n",
    "#opening a connection to the imdb database\n",
    "conn = sqlite3.connect(\"Data/im.db\")\n",
    "\n"
   ]
  },
  {
   "cell_type": "code",
   "execution_count": null,
   "metadata": {},
   "outputs": [],
   "source": []
  }
 ],
 "metadata": {
  "celltoolbar": "Edit Metadata",
  "kernelspec": {
   "display_name": "Python 3 (ipykernel)",
   "language": "python",
   "name": "python3"
  },
  "language_info": {
   "codemirror_mode": {
    "name": "ipython",
    "version": 3
   },
   "file_extension": ".py",
   "mimetype": "text/x-python",
   "name": "python",
   "nbconvert_exporter": "python",
   "pygments_lexer": "ipython3",
   "version": "3.10.11"
  }
 },
 "nbformat": 4,
 "nbformat_minor": 2
}
